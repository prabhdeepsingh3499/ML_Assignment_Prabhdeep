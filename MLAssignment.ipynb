{
 "cells": [
  {
   "cell_type": "markdown",
   "metadata": {},
   "source": [
    "###  Question 1 : Ask a user to enter name and age, and print in which year they will turn 100\n"
   ]
  },
  {
   "cell_type": "code",
   "execution_count": 1,
   "metadata": {},
   "outputs": [
    {
     "name": "stdout",
     "output_type": "stream",
     "text": [
      "prabhdeep 21\n",
      "prabhdeep will turn 100 years in the year 2100\n"
     ]
    }
   ],
   "source": [
    "from datetime import date\n",
    "name, age = input().split()\n",
    "age = int(age)\n",
    "current_year = date.today().year\n",
    "target_year = current_year+(100-age)\n",
    "print(name,\"will turn 100 years in the year\",target_year)\n"
   ]
  },
  {
   "cell_type": "markdown",
   "metadata": {},
   "source": [
    "### Extras : Ask user for another number and print that copies of message on seperate lines"
   ]
  },
  {
   "cell_type": "code",
   "execution_count": 3,
   "metadata": {},
   "outputs": [
    {
     "name": "stdout",
     "output_type": "stream",
     "text": [
      "prabhdeep 21 5\n",
      "prabhdeep will turn 100 years in the year 2100\n",
      "prabhdeep will turn 100 years in the year 2100\n",
      "prabhdeep will turn 100 years in the year 2100\n",
      "prabhdeep will turn 100 years in the year 2100\n",
      "prabhdeep will turn 100 years in the year 2100\n"
     ]
    }
   ],
   "source": [
    "from datetime import date\n",
    "name, age, length = input().split()\n",
    "age = int(age)\n",
    "length = int(length)\n",
    "current_year = date.today().year\n",
    "target_year = current_year+(100-age)\n",
    "while length>0:\n",
    "    print(name,\"will turn 100 years in the year\",target_year)\n",
    "    length -= 1\n"
   ]
  },
  {
   "cell_type": "markdown",
   "metadata": {},
   "source": [
    "### Question 2 : Given a list a = [1, 1, 2, 3, 5, 8, 13, 21, 34, 55, 89], print all elements less than 5"
   ]
  },
  {
   "cell_type": "code",
   "execution_count": 4,
   "metadata": {},
   "outputs": [
    {
     "name": "stdout",
     "output_type": "stream",
     "text": [
      "1\n",
      "1\n",
      "2\n",
      "3\n"
     ]
    }
   ],
   "source": [
    "a = [1,1,2,3,5,8,13,21,34,55,89]\n",
    "for i in a:\n",
    "    if i < 5:\n",
    "        print(i)"
   ]
  },
  {
   "cell_type": "markdown",
   "metadata": {},
   "source": [
    "### Extras #1 and 2 : Instead of printing elements one by one, make a new list and do this in one line"
   ]
  },
  {
   "cell_type": "code",
   "execution_count": 5,
   "metadata": {},
   "outputs": [
    {
     "name": "stdout",
     "output_type": "stream",
     "text": [
      "[1, 1, 2, 3]\n"
     ]
    }
   ],
   "source": [
    "a = [1,1,2,3,5,8,13,21,34,55,89]\n",
    "b = [i for i in a if i < 5]\n",
    "print(b)"
   ]
  },
  {
   "cell_type": "markdown",
   "metadata": {},
   "source": [
    "### Extras #3 : Ask the user for a number and return a list of elements less than that number"
   ]
  },
  {
   "cell_type": "code",
   "execution_count": 6,
   "metadata": {},
   "outputs": [
    {
     "name": "stdout",
     "output_type": "stream",
     "text": [
      "7\n",
      "[1, 1, 2, 3, 5]\n"
     ]
    }
   ],
   "source": [
    "num = int(input())\n",
    "a = [1,1,2,3,5,8,13,21,34,55,89]\n",
    "b = [i for i in a if i < num]\n",
    "print(b)"
   ]
  },
  {
   "cell_type": "markdown",
   "metadata": {},
   "source": [
    "### Question 3 :  Using functions, enter a number and generate Fibonacci numbers in that range"
   ]
  },
  {
   "cell_type": "code",
   "execution_count": 12,
   "metadata": {},
   "outputs": [
    {
     "name": "stdout",
     "output_type": "stream",
     "text": [
      "7\n",
      "1\n",
      "1\n",
      "2\n",
      "3\n",
      "5\n",
      "8\n",
      "13\n"
     ]
    }
   ],
   "source": [
    "def fibonacci(number):\n",
    "    first_val = 0\n",
    "    second_val = 1\n",
    "    print(second_val)\n",
    "    for i in range(1,number):\n",
    "        if(number<=1):\n",
    "            next = num\n",
    "        else:\n",
    "            next = first_val + second_val\n",
    "            first_val = second_val\n",
    "            second_val = next\n",
    "        print(next)\n",
    "        \n",
    "        \n",
    "num = int(input())\n",
    "fibonacci(num)"
   ]
  },
  {
   "cell_type": "markdown",
   "metadata": {},
   "source": [
    "### Question 4 : Take a list as input and return a new list without any duplicates\n",
    "### Method 1 :  Using loop function"
   ]
  },
  {
   "cell_type": "code",
   "execution_count": 19,
   "metadata": {},
   "outputs": [
    {
     "name": "stdout",
     "output_type": "stream",
     "text": [
      "1 1 3 2 4 2 5 5 3 \n",
      "[1, 3, 2, 4, 5]\n"
     ]
    }
   ],
   "source": [
    "def remove_duplicate_loop(a):\n",
    "    final_a = []\n",
    "    [final_a.append(n) for n in a if n not in final_a]\n",
    "    print(final_a)\n",
    "a = [int(i) for i in input().split()]\n",
    "remove_duplicate_loop(a)"
   ]
  },
  {
   "cell_type": "markdown",
   "metadata": {},
   "source": [
    "### Method 2 : Using sets function"
   ]
  },
  {
   "cell_type": "code",
   "execution_count": 21,
   "metadata": {},
   "outputs": [
    {
     "name": "stdout",
     "output_type": "stream",
     "text": [
      "1 1 4 3 2 4 \n",
      "{1, 2, 3, 4}\n"
     ]
    }
   ],
   "source": [
    "def remove_duplicate_sets(a):\n",
    "    a = set(a)\n",
    "    print(a)\n",
    "a = [int(i) for i in input().split()]\n",
    "remove_duplicate_sets(a)"
   ]
  },
  {
   "cell_type": "markdown",
   "metadata": {},
   "source": [
    "### Question 5 : Take a number as input and determine whether number  is prime or not\n"
   ]
  },
  {
   "cell_type": "code",
   "execution_count": 1,
   "metadata": {},
   "outputs": [
    {
     "name": "stdout",
     "output_type": "stream",
     "text": [
      "5\n",
      "5 is a prime number\n"
     ]
    }
   ],
   "source": [
    "import math\n",
    "def isprime(num):\n",
    "    flag = 1\n",
    "    if(num <= 1):\n",
    "        flag = 0\n",
    "    for i in range(2,int(math.sqrt(num))):\n",
    "        if(num%i == 0):\n",
    "            flag = 0\n",
    "            break\n",
    "    if flag == 1:\n",
    "        print(num,\"is a prime number\")\n",
    "    else:\n",
    "        print(num,\"is not a prime number\")\n",
    "num = int(input())\n",
    "isprime(num)"
   ]
  },
  {
   "cell_type": "code",
   "execution_count": null,
   "metadata": {},
   "outputs": [],
   "source": []
  }
 ],
 "metadata": {
  "kernelspec": {
   "display_name": "Python 3",
   "language": "python",
   "name": "python3"
  },
  "language_info": {
   "codemirror_mode": {
    "name": "ipython",
    "version": 3
   },
   "file_extension": ".py",
   "mimetype": "text/x-python",
   "name": "python",
   "nbconvert_exporter": "python",
   "pygments_lexer": "ipython3",
   "version": "3.7.3"
  }
 },
 "nbformat": 4,
 "nbformat_minor": 2
}
